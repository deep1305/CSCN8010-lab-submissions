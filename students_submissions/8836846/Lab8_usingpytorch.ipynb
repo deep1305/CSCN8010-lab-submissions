{
 "cells": [
  {
   "cell_type": "code",
   "execution_count": 1,
   "id": "e5d2efc5",
   "metadata": {},
   "outputs": [
    {
     "name": "stdout",
     "output_type": "stream",
     "text": [
      "PyTorch Dot Product: 32\n",
      "PyTorch Matrix Multiplication:\n",
      "tensor([[19, 22],\n",
      "        [43, 50]])\n"
     ]
    }
   ],
   "source": [
    "# Importing PyTorch\n",
    "import torch\n",
    "\n",
    "# Dot product using PyTorch\n",
    "vector_A_pytorch = torch.tensor([1, 2, 3])\n",
    "vector_B_pytorch = torch.tensor([4, 5, 6])\n",
    "dot_product_pytorch = torch.dot(vector_A_pytorch, vector_B_pytorch)\n",
    "\n",
    "# Matrix multiplication using PyTorch\n",
    "matrix_C_pytorch = torch.tensor([[1, 2], [3, 4]])\n",
    "matrix_D_pytorch = torch.tensor([[5, 6], [7, 8]])\n",
    "matrix_product_pytorch = torch.mm(matrix_C_pytorch, matrix_D_pytorch)\n",
    "\n",
    "# Printing results for PyTorch\n",
    "print(\"PyTorch Dot Product:\", dot_product_pytorch.item())\n",
    "print(\"PyTorch Matrix Multiplication:\")\n",
    "print(matrix_product_pytorch)"
   ]
  },
  {
   "cell_type": "code",
   "execution_count": null,
   "id": "67357c2d",
   "metadata": {},
   "outputs": [],
   "source": []
  }
 ],
 "metadata": {
  "kernelspec": {
   "display_name": "pytorch_cpu",
   "language": "python",
   "name": "pytorch_cpu"
  },
  "language_info": {
   "codemirror_mode": {
    "name": "ipython",
    "version": 3
   },
   "file_extension": ".py",
   "mimetype": "text/x-python",
   "name": "python",
   "nbconvert_exporter": "python",
   "pygments_lexer": "ipython3",
   "version": "3.11.1"
  }
 },
 "nbformat": 4,
 "nbformat_minor": 5
}
