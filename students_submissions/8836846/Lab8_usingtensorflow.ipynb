{
 "cells": [
  {
   "cell_type": "code",
   "execution_count": 1,
   "id": "9d05d965",
   "metadata": {},
   "outputs": [
    {
     "name": "stdout",
     "output_type": "stream",
     "text": [
      "TensorFlow Dot Product: 32.0\n",
      "TensorFlow Matrix Multiplication:\n",
      "[[19. 22.]\n",
      " [43. 50.]]\n"
     ]
    }
   ],
   "source": [
    "# Importing TensorFlow\n",
    "import tensorflow as tf\n",
    "\n",
    "# Dot product using TensorFlow\n",
    "vector_A_tf = tf.constant([1, 2, 3], dtype=tf.float32)\n",
    "vector_B_tf = tf.constant([4, 5, 6], dtype=tf.float32)\n",
    "dot_product_tf = tf.reduce_sum(tf.multiply(vector_A_tf, vector_B_tf))\n",
    "\n",
    "# Matrix multiplication using TensorFlow\n",
    "matrix_C_tf = tf.constant([[1, 2], [3, 4]], dtype=tf.float32)\n",
    "matrix_D_tf = tf.constant([[5, 6], [7, 8]], dtype=tf.float32)\n",
    "matrix_product_tf = tf.matmul(matrix_C_tf, matrix_D_tf)\n",
    "\n",
    "# Printing results for TensorFlow\n",
    "print(\"TensorFlow Dot Product:\", dot_product_tf.numpy())\n",
    "print(\"TensorFlow Matrix Multiplication:\")\n",
    "print(matrix_product_tf.numpy())"
   ]
  },
  {
   "cell_type": "code",
   "execution_count": null,
   "id": "9921f833",
   "metadata": {},
   "outputs": [],
   "source": []
  }
 ],
 "metadata": {
  "kernelspec": {
   "display_name": "tensorflow_cpu",
   "language": "python",
   "name": "tensorflow_cpu"
  },
  "language_info": {
   "codemirror_mode": {
    "name": "ipython",
    "version": 3
   },
   "file_extension": ".py",
   "mimetype": "text/x-python",
   "name": "python",
   "nbconvert_exporter": "python",
   "pygments_lexer": "ipython3",
   "version": "3.11.1"
  }
 },
 "nbformat": 4,
 "nbformat_minor": 5
}
