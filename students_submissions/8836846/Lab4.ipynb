{
 "cells": [
  {
   "cell_type": "markdown",
   "id": "79865580",
   "metadata": {},
   "source": [
    "We will use diabetes dataset which comes when we use import or install sci-kit learn."
   ]
  },
  {
   "cell_type": "code",
   "execution_count": 1,
   "id": "8314e3bf",
   "metadata": {},
   "outputs": [],
   "source": [
    "#importing the necessary libraries\n",
    "import numpy as np\n",
    "import pandas as pd\n",
    "from sklearn.datasets import load_diabetes\n",
    "from sklearn.model_selection import train_test_split\n",
    "from sklearn.linear_model import LinearRegression\n",
    "from sklearn.preprocessing import PolynomialFeatures\n",
    "from sklearn.metrics import r2_score, mean_absolute_error, mean_absolute_percentage_error\n"
   ]
  },
  {
   "cell_type": "code",
   "execution_count": 2,
   "id": "73fd9bf7",
   "metadata": {},
   "outputs": [],
   "source": [
    "#Loading the Diabetes dataset\n",
    "X, y = load_diabetes(return_X_y=True, as_frame=True, scaled=True)"
   ]
  },
  {
   "cell_type": "code",
   "execution_count": 3,
   "id": "d31ddfda",
   "metadata": {},
   "outputs": [],
   "source": [
    "#In the next step, data splitting into training, validation and test set happens\n",
    "X_train, X_test, y_train, y_test = train_test_split(X, y, test_size=0.2, random_state=42)\n",
    "X_train, X_val, y_train, y_val = train_test_split(X_train, y_train, test_size=0.25, random_state=42)"
   ]
  },
  {
   "cell_type": "markdown",
   "id": "edc0a40e",
   "metadata": {},
   "source": [
    "Here,we used above code twice: First time to split the data into 80% train and 20% test, and then to split the train set and validation further into 75% and 25% respectively. In summary, it can be said that train set consist of 60% data, validation and test set consists 20% data each."
   ]
  },
  {
   "cell_type": "code",
   "execution_count": 4,
   "id": "853b2df7",
   "metadata": {},
   "outputs": [
    {
     "name": "stdout",
     "output_type": "stream",
     "text": [
      "Multivariate linear regression results:\n",
      "R-squared: 0.522\n",
      "MAPE: 0.307\n",
      "MAE: 42.939\n"
     ]
    }
   ],
   "source": [
    "#Now, we will run a multivariate linear regressionon all the variables which are there in the dataset using LinearRegression class from sklearn.\n",
    "#Here, we will fit the model onthe train set and evaluation will be done on the validation set using MAE, MAPE and R-squared.\n",
    "\n",
    "# Running a multivariate linear regression on all variables\n",
    "lin_reg = LinearRegression()\n",
    "lin_reg.fit(X_train, y_train)\n",
    "\n",
    "# Predicting on the validation set\n",
    "y_pred_lin = lin_reg.predict(X_val)\n",
    "\n",
    "# Evaluating the model using R-squared, MAPE and MAE\n",
    "r2_lin = r2_score(y_val, y_pred_lin)\n",
    "mape_lin = mean_absolute_percentage_error(y_val, y_pred_lin)\n",
    "mae_lin = mean_absolute_error(y_val, y_pred_lin)\n",
    "\n",
    "# Printing the results\n",
    "print(f\"Multivariate linear regression results:\")\n",
    "print(f\"R-squared: {r2_lin:.3f}\")\n",
    "print(f\"MAPE: {mape_lin:.3f}\")\n",
    "print(f\"MAE: {mae_lin:.3f}\")\n"
   ]
  },
  {
   "cell_type": "code",
   "execution_count": 5,
   "id": "b34ac279",
   "metadata": {},
   "outputs": [
    {
     "name": "stdout",
     "output_type": "stream",
     "text": [
      "Polynomial regression on BMI results:\n",
      "R-squared: 0.357\n",
      "MAPE: 0.383\n",
      "MAE: 50.452\n"
     ]
    }
   ],
   "source": [
    "#In the next step, we will run a polynomial regression of the 2nd degree on the BMI feature alone using the PolynomialFeatures class from sklearn.\n",
    "#Here, BMI feature will be transformed into a quadratic polynomial and will fit a linear regression on it.\n",
    "# Running a polynomial regression of the 2nd degree on the BMI feature alone\n",
    "poly_bmi = PolynomialFeatures(degree=2)\n",
    "X_train_bmi = poly_bmi.fit_transform(X_train[[\"bmi\"]])\n",
    "X_val_bmi = poly_bmi.transform(X_val[[\"bmi\"]])\n",
    "\n",
    "poly_reg_bmi = LinearRegression()\n",
    "poly_reg_bmi.fit(X_train_bmi, y_train)\n",
    "\n",
    "# Predicting on the validation set\n",
    "y_pred_poly_bmi = poly_reg_bmi.predict(X_val_bmi)\n",
    "\n",
    "# Evaluating the model using R-squared, MAPE and MAE\n",
    "r2_poly_bmi = r2_score(y_val, y_pred_poly_bmi)\n",
    "mape_poly_bmi = mean_absolute_percentage_error(y_val, y_pred_poly_bmi)\n",
    "mae_poly_bmi = mean_absolute_error(y_val, y_pred_poly_bmi)\n",
    "\n",
    "# Printing the results\n",
    "print(f\"Polynomial regression on BMI results:\")\n",
    "print(f\"R-squared: {r2_poly_bmi:.3f}\")\n",
    "print(f\"MAPE: {mape_poly_bmi:.3f}\")\n",
    "print(f\"MAE: {mae_poly_bmi:.3f}\")"
   ]
  },
  {
   "cell_type": "code",
   "execution_count": 6,
   "id": "5662c80d",
   "metadata": {},
   "outputs": [
    {
     "name": "stdout",
     "output_type": "stream",
     "text": [
      "Multivariate polynomial regression results:\n",
      "R-squared: 0.360\n",
      "MAPE: 0.326\n",
      "MAE: 46.646\n"
     ]
    }
   ],
   "source": [
    "#Lastly, we will run a multivariate polynomial regression of the 2nd degree on all variables using PolynomialFeatures class from sklearn.\n",
    "#Here, All features will be transformed into quadratic polynomials and fit a linear regression on them.\n",
    "\n",
    "# Running a multivariate polynomial regression of the 2nd degree on all variables\n",
    "poly_all = PolynomialFeatures(degree=2, include_bias=False)\n",
    "X_train_all = poly_all.fit_transform(X_train)\n",
    "X_val_all = poly_all.transform(X_val)\n",
    "\n",
    "poly_reg_all = LinearRegression()\n",
    "poly_reg_all.fit(X_train_all, y_train)\n",
    "\n",
    "# Predicting on the validation set\n",
    "y_pred_poly_all = poly_reg_all.predict(X_val_all)\n",
    "\n",
    "# Evaluating the model using R-squared, MAPE and MAE\n",
    "r2_poly_all = r2_score(y_val, y_pred_poly_all)\n",
    "mape_poly_all = mean_absolute_percentage_error(y_val, y_pred_poly_all)\n",
    "mae_poly_all = mean_absolute_error(y_val, y_pred_poly_all)\n",
    "\n",
    "# Printing the results\n",
    "print(f\"Multivariate polynomial regression results:\")\n",
    "print(f\"R-squared: {r2_poly_all:.3f}\")\n",
    "print(f\"MAPE: {mape_poly_all:.3f}\")\n",
    "print(f\"MAE: {mae_poly_all:.3f}\")"
   ]
  },
  {
   "cell_type": "code",
   "execution_count": null,
   "id": "3ff79691",
   "metadata": {},
   "outputs": [],
   "source": [
    "#Below cell represents the comaprison of three models on the basis of R-squared,  MAPE, and MAE\n",
    "#In order to look pleasant, it is requested not to run below cell"
   ]
  },
  {
   "cell_type": "markdown",
   "id": "1fb59fb1",
   "metadata": {},
   "source": [
    "\n",
    "\n",
    "Model                                      R-squared             MAPE                MAE\n",
    "\n",
    "Multivariate linear regression               0.52                0.31               42.94           \n",
    "\n",
    "Polynomial regression on BMI                 0.357               0.38               50.45\n",
    "\n",
    "Multivariate polynomial regression           0.36                0.33               46.64\n"
   ]
  },
  {
   "cell_type": "markdown",
   "id": "1274f7d7",
   "metadata": {},
   "source": [
    "R-squared is a measure of how well the model fits the data. It ranges from 0 to 1, with higher values indicating better fit. MAPE and MAE are measures of how much the model deviates from the true values. They are both in the same units as the target variable, with lower values indicating better accuracy."
   ]
  },
  {
   "cell_type": "markdown",
   "id": "a7c6ca1f",
   "metadata": {},
   "source": [
    "For a non-expert, I would explain the values as follows:\n",
    "\n",
    "The multivariate linear regression model explains about 52% of the variation in the target variable, and has an average error of about 43 units.\n",
    "\n",
    "The polynomial regression on BMI model explains about 36% of the variation in the target variable, and has an average error of about 50 units.\n",
    "\n",
    "The multivariate polynomial regression model explains about 36% of the variation in the target variable, and has an average error of about 46 units."
   ]
  },
  {
   "cell_type": "markdown",
   "id": "249c766b",
   "metadata": {},
   "source": [
    "My insight on the values of each model is mentioned below:\n",
    "* The conclusion that the multivariate linear regression model performs better than the other two models is because the characteristics and the target variable are linearly related.\n",
    "* According to the polynomial regression on BMI model's performance, which is worse than that of the other two models, BMI alone is not a good predictor of the target variable.\n",
    "* Indicating that the inclusion of nonlinear components does not improve the model's fit or accuracy, the multivariate polynomial regression model performs only slightly better than the polynomial regression on BMI model but worse than the multivariate linear regression model."
   ]
  },
  {
   "cell_type": "markdown",
   "id": "1099d61c",
   "metadata": {},
   "source": [
    "## How many parameters are we fitting for each of the three models? Explain these values."
   ]
  },
  {
   "cell_type": "markdown",
   "id": "6cf55de8",
   "metadata": {},
   "source": [
    "* For the multivariate linear regression model, we are fitting 11 parameters: one intercept and one coefficient for each of the 10 features.\n",
    "* For the polynomial regression on BMI model, we are fitting 3 parameters: one intercept and two coefficients for the quadratic polynomial of BMI.\n",
    "* For the multivariate polynomial regression model, we are fitting 66 parameters: one intercept and 65 coefficients for the quadratic polynomials of all features. The number of coefficients can be obtained by using poly_all.get_feature_names_out(), which shows that there are 10 linear terms, 45 interaction terms, and 10 quadratic terms."
   ]
  },
  {
   "cell_type": "markdown",
   "id": "4cdd7a3d",
   "metadata": {},
   "source": [
    "## Which model would you choose for deployment, and why?"
   ]
  },
  {
   "cell_type": "markdown",
   "id": "b35a68ca",
   "metadata": {},
   "source": [
    "I would choose the multivariate linear regression model for deployment, because it has the highest R-squared value and the lowest MAPE and MAE values among the three models. This means that it has the best fit and accuracy for predicting the target variable. However, I would also consider other factors such as complexity, interpretability, and generalization before making a final decision."
   ]
  },
  {
   "cell_type": "code",
   "execution_count": null,
   "id": "0186e326",
   "metadata": {},
   "outputs": [],
   "source": []
  }
 ],
 "metadata": {
  "kernelspec": {
   "display_name": "CSCN8010_classic_ml",
   "language": "python",
   "name": "cscn8010_classic_ml"
  },
  "language_info": {
   "codemirror_mode": {
    "name": "ipython",
    "version": 3
   },
   "file_extension": ".py",
   "mimetype": "text/x-python",
   "name": "python",
   "nbconvert_exporter": "python",
   "pygments_lexer": "ipython3",
   "version": "3.11.1"
  }
 },
 "nbformat": 4,
 "nbformat_minor": 5
}
